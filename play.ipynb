{
 "cells": [
  {
   "cell_type": "code",
   "execution_count": 4,
   "id": "d4ccf121",
   "metadata": {},
   "outputs": [
    {
     "name": "stdout",
     "output_type": "stream",
     "text": [
      "dict_keys(['x0', 'xref', 'valid_mask', 'esm', 'pad_mask'])\n"
     ]
    }
   ],
   "source": [
    "import torch\n",
    "from dataset import TorsionPairDataset\n",
    "from torch.utils.data import DataLoader\n",
    "\n",
    "def collate_pad(batch):\n",
    "    max_len = max(b[\"x0\"].shape[1] for b in batch)\n",
    "    B = len(batch)\n",
    "    x0 = torch.zeros(B, 6, max_len)\n",
    "    xref = torch.zeros(B, 6, max_len)\n",
    "    valid_mask = torch.zeros(B, 6, max_len, dtype=torch.bool)\n",
    "    esm = torch.zeros(B, max_len, 1280)\n",
    "    pad_mask = torch.zeros(B, max_len, dtype=torch.bool)\n",
    "\n",
    "    for i, b in enumerate(batch):\n",
    "        L = b[\"x0\"].shape[1]\n",
    "        x0[i,:,:L] = b[\"x0\"]\n",
    "        xref[i,:,:L] = b[\"xref\"]\n",
    "        valid_mask[i,:,:L] = b[\"mask\"]\n",
    "        esm[i,:L,:] = b[\"esm\"]\n",
    "        pad_mask[i,:L] = True\n",
    "        \n",
    "    return {\n",
    "        \"x0\": x0,\n",
    "        \"xref\": xref,\n",
    "        \"valid_mask\": valid_mask,\n",
    "        \"esm\": esm,\n",
    "        \"pad_mask\": pad_mask\n",
    "    }\n",
    "\n",
    "train_dataset = TorsionPairDataset()\n",
    "train_loader = DataLoader(train_dataset, batch_size=32, collate_fn=collate_pad)\n",
    "\n",
    "batch = next(iter(train_loader))\n",
    "print(batch.keys())"
   ]
  },
  {
   "cell_type": "code",
   "execution_count": null,
   "id": "5ed747f6",
   "metadata": {},
   "outputs": [],
   "source": []
  }
 ],
 "metadata": {
  "kernelspec": {
   "display_name": "torangdiff",
   "language": "python",
   "name": "python3"
  },
  "language_info": {
   "codemirror_mode": {
    "name": "ipython",
    "version": 3
   },
   "file_extension": ".py",
   "mimetype": "text/x-python",
   "name": "python",
   "nbconvert_exporter": "python",
   "pygments_lexer": "ipython3",
   "version": "3.12.11"
  }
 },
 "nbformat": 4,
 "nbformat_minor": 5
}
