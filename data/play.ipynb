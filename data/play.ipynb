{
 "cells": [
  {
   "cell_type": "code",
   "execution_count": 14,
   "id": "77c48555",
   "metadata": {},
   "outputs": [
    {
     "name": "stdout",
     "output_type": "stream",
     "text": [
      "151 ensembles with size > 16\n"
     ]
    }
   ],
   "source": [
    "from pathlib import Path\n",
    "\n",
    "BASE_INPUT_DIR = Path(\"../data/pdb_ensemble_downloads\")\n",
    "OUTPUT_DIR = Path(\"../data/datasets\")\n",
    "\n",
    "ensemble_dirs = [p for p in BASE_INPUT_DIR.iterdir() if p.is_dir()]\n",
    "counts = [\n",
    "    sum(1 for f in d.iterdir() if f.is_file() and f.suffix == \".cif\") for d in ensemble_dirs\n",
    "]\n",
    "\n",
    "filtered = [(d, c) for d, c in zip(ensemble_dirs, counts) if c > 16]\n",
    "print(f\"{len(filtered)} ensembles with size > 16\")\n"
   ]
  },
  {
   "cell_type": "code",
   "execution_count": null,
   "id": "86da76c4",
   "metadata": {},
   "outputs": [
    {
     "name": "stdout",
     "output_type": "stream",
     "text": [
      "total: 13060 | train_val: 3055 | benchmark: 113 | failed: 0\n"
     ]
    }
   ],
   "source": [
    "total_structures = 0\n",
    "train_val_count = 0\n",
    "benchmark_count = 0\n",
    "failed_ensembles = 0\n",
    "\n",
    "for dir in ensemble_dirs:\n",
    "    cif_count = sum(1 for f in dir.iterdir() if f.is_file() and f.suffix == \".cif\")\n",
    "    train_val_target = OUTPUT_DIR / \"train_val\" / dir.name\n",
    "    benchmark_target = OUTPUT_DIR / \"benchmark\" / dir.name\n",
    "    pt_count = 0\n",
    "    if train_val_target.is_dir():\n",
    "        train_val_count += 1\n",
    "        pt_count = sum(1 for f in train_val_target.iterdir() if f.is_file() and f.suffix == \".pt\")\n",
    "    elif benchmark_target.is_dir():\n",
    "        benchmark_count += 1\n",
    "        pt_count = sum(1 for f in benchmark_target.iterdir() if f.is_file() and f.suffix == \".pt\")\n",
    "    if train_val_target.is_dir() or benchmark_target.is_dir() and (cif_count > 16 and pt_count != 16) or (cif_count <= 16 and pt_count != cif_count):\n",
    "        failed_ensembles += 1\n",
    "    else:\n",
    "        total_structures += pt_count\n",
    "\n",
    "print(f\"total: {total_structures} | train_val: {train_val_count} | benchmark: {benchmark_count} | failed: {failed_ensembles}\")"
   ]
  },
  {
   "cell_type": "code",
   "execution_count": null,
   "id": "447df5bb",
   "metadata": {},
   "outputs": [],
   "source": []
  }
 ],
 "metadata": {
  "kernelspec": {
   "display_name": "torsiondiff",
   "language": "python",
   "name": "python3"
  },
  "language_info": {
   "codemirror_mode": {
    "name": "ipython",
    "version": 3
   },
   "file_extension": ".py",
   "mimetype": "text/x-python",
   "name": "python",
   "nbconvert_exporter": "python",
   "pygments_lexer": "ipython3",
   "version": "3.12.11"
  }
 },
 "nbformat": 4,
 "nbformat_minor": 5
}
